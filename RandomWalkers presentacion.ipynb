{
 "cells": [
  {
   "cell_type": "code",
   "execution_count": 2,
   "metadata": {},
   "outputs": [],
   "source": [
    "from random import gauss\n",
    "import numpy as np\n",
    "import seaborn as sns\n",
    "import matplotlib.pyplot as plt\n",
    "from scipy.special import erf\n",
    "import time\n",
    "from numba import vectorize\n",
    "%matplotlib inline"
   ]
  },
  {
   "cell_type": "markdown",
   "metadata": {},
   "source": [
    "Here I am defining the walkers in walkertime and a function to loop on them callled crossings"
   ]
  },
  {
   "cell_type": "code",
   "execution_count": 3,
   "metadata": {},
   "outputs": [],
   "source": [
    "mu = 0.\n",
    "DS = 0.0001\n",
    "sigma = np.sqrt(DS)\n",
    "deltacrit = 1.69\n",
    "maxs = 100\n",
    "# This is needed to not get a really high crossing time\n",
    "maxstep = 10000\n",
    "@vectorize(['float32(float32)'], target='parallel')\n",
    "#@vectorize(['float32(float32)'], target='cuda')\n",
    "def walkertime(deltacrit):\n",
    "    step = 0\n",
    "    delta = 0.\n",
    "    S = 0.\n",
    "    while delta<deltacrit and S < maxs:\n",
    "            delta += gauss(mu,sigma)\n",
    "            S += DS\n",
    "    return S"
   ]
  },
  {
   "cell_type": "code",
   "execution_count": 17,
   "metadata": {},
   "outputs": [
    {
     "name": "stdout",
     "output_type": "stream",
     "text": [
      "--- 19.3899729252 seconds ---\n"
     ]
    }
   ],
   "source": [
    "vec_size = 15000\n",
    "deltacvec=np.zeros(vec_size, dtype=np.float32)\n",
    "deltacvec=deltacvec+deltacrit\n",
    "start_time = time.time()\n",
    "crossing = walkertime(deltacvec)\n",
    "print(\"--- %s seconds ---\" % (time.time() - start_time))"
   ]
  },
  {
   "cell_type": "code",
   "execution_count": 5,
   "metadata": {},
   "outputs": [
    {
     "name": "stdout",
     "output_type": "stream",
     "text": [
      "[ 13.9787  49.8555   5.5124  99.1392  37.9267   7.3904 100.       6.3404\n",
      "   4.4351  35.573    2.6064  12.0484 100.       4.4801   7.2973 100.\n",
      "   5.6584   2.641   13.9735   6.1443  90.5421 100.       8.0356   1.4716\n",
      "   4.0047  55.1435  27.6123 100.    ]\n"
     ]
    }
   ],
   "source": [
    "print crossing[2:30]"
   ]
  },
  {
   "cell_type": "code",
   "execution_count": 18,
   "metadata": {},
   "outputs": [
    {
     "data": {
      "text/plain": [
       "<matplotlib.axes._subplots.AxesSubplot at 0x7fe13dd4c150>"
      ]
     },
     "execution_count": 18,
     "metadata": {},
     "output_type": "execute_result"
    },
    {
     "data": {
      "image/png": "[encoded data removed]",
      "text/plain": [
       "<matplotlib.figure.Figure at 0x7fe13dad3190>"
      ]
     },
     "metadata": {},
     "output_type": "display_data"
    }
   ],
   "source": [
    "# Defining the theoretical distribution to compare with the simulation \n",
    "smin = 0.1\n",
    "lins = np.linspace(smin,maxs,200)\n",
    "nuspace = deltacrit/np.sqrt(lins)\n",
    "distribution = nuspace*np.exp(-nuspace**2/2)/(np.sqrt(2*np.pi)*lins)\n",
    "plt.plot(lins,distribution)\n",
    "\n",
    "#Parece que se necesita mucho para llegar a una distribucion bonita\n",
    "crossing =np.array(crossing)\n",
    "crossingfiltered = crossing[(crossing < 100)]\n",
    "sns.distplot(crossingfiltered,kde=False,norm_hist=True)\n",
    "#plt.plot(lins,distribution)"
   ]
  }
 ],
 "metadata": {
  "kernelspec": {
   "display_name": "Python 2",
   "language": "python",
   "name": "python2"
  },
  "language_info": {
   "codemirror_mode": {
    "name": "ipython",
    "version": 2
   },
   "file_extension": ".py",
   "mimetype": "text/x-python",
   "name": "python",
   "nbconvert_exporter": "python",
   "pygments_lexer": "ipython2",
   "version": "2.7.15"
  }
 },
 "nbformat": 4,
 "nbformat_minor": 2
}
